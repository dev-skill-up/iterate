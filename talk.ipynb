{
 "cells": [
  {
   "cell_type": "code",
   "execution_count": 25,
   "metadata": {
    "tags": [
     "no_markdown"
    ]
   },
   "outputs": [],
   "source": [
    "from __future__ import annotations"
   ]
  },
  {
   "cell_type": "markdown",
   "metadata": {},
   "source": [
    "```{=latex}\n",
    "\\usepackage{hyperref}\n",
    "\\usepackage{graphicx}\n",
    "\\usepackage{listings}\n",
    "\\usepackage{textcomp}\n",
    "\\usepackage{fancyvrb}\n",
    "\n",
    "\\newcommand{\\passthrough}[1]{\\lstset{mathescape=false}#1\\lstset{mathescape=true}}\n",
    "\\providecommand{\\tightlist}{%\n",
    "  \\setlength{\\itemsep}{0pt}\\setlength{\\parskip}{0pt}}\n",
    "\n",
    "```"
   ]
  },
  {
   "cell_type": "markdown",
   "metadata": {},
   "source": [
    "```{=latex}\n",
    "\\title{Iterate, Iterate, Iterate}\n",
    "\\author{Moshe Zadka -- https://cobordism.com}\n",
    "\\date{}\n",
    "\n",
    "\\begin{document}\n",
    "\\begin{titlepage}\n",
    "\\maketitle\n",
    "\\end{titlepage}\n",
    "```"
   ]
  },
  {
   "cell_type": "markdown",
   "metadata": {},
   "source": [
    "```{=latex}\n",
    "\\frame{\\titlepage}\n",
    "```"
   ]
  },
  {
   "cell_type": "markdown",
   "metadata": {},
   "source": [
    "## Iteration protocol\n",
    "\n",
    "### Iterable vs. Iterator"
   ]
  },
  {
   "cell_type": "code",
   "execution_count": 26,
   "metadata": {},
   "outputs": [],
   "source": [
    "from typing import TypeVar, Protocol, Any, Generic\n",
    "from dataclasses import dataclass\n",
    "\n",
    "T = TypeVar(\"T\")\n"
   ]
  },
  {
   "cell_type": "markdown",
   "metadata": {},
   "source": [
    "```{=latex}\n",
    "\\begin{frame}[fragile]\n",
    "\\frametitle{Iterable or Iterator}\n",
    "```"
   ]
  },
  {
   "cell_type": "code",
   "execution_count": 27,
   "metadata": {},
   "outputs": [],
   "source": [
    "class Iterable(Protocol[T]):\n",
    "    def __iter__(self) -> Iterator[T]:\n",
    "        ..."
   ]
  },
  {
   "cell_type": "markdown",
   "metadata": {},
   "source": [
    "```{=latex}\n",
    "\\pause\n",
    "```"
   ]
  },
  {
   "cell_type": "code",
   "execution_count": 28,
   "metadata": {},
   "outputs": [],
   "source": [
    "class Iterator(Iterable[T]):\n",
    "    def __next__(self) -> T:\n",
    "        \"\"\"Raises StopIteration\"\"\""
   ]
  },
  {
   "cell_type": "markdown",
   "metadata": {},
   "source": [
    "```{=latex}\n",
    "\\pause\n",
    "\n",
    "The \\verb|__iter__| method returns \\verb|self|\n",
    "```"
   ]
  },
  {
   "cell_type": "markdown",
   "metadata": {},
   "source": [
    "```{=latex}\n",
    "\\end{frame}\n",
    "```"
   ]
  },
  {
   "cell_type": "markdown",
   "metadata": {},
   "source": [
    "When it comes to iterators,\n",
    "there are two related\n",
    "\"protocols\"\n",
    "that are important to understand.\n",
    "They refer to each other,\n",
    "so they have to be explained as a pair.\n",
    "\n",
    "The first is the\n",
    "*iterable*\n",
    "protocol.\n",
    "This protocol has one method:\n",
    "`__iter__`.\n",
    "This method is supposed to return an iterator.\n",
    "The\n",
    "*iterator*\n",
    "protocol\n",
    "specializes the iterable protocol.\n",
    "It has another method,\n",
    "`__next__`,\n",
    "which returns the next \n",
    "item\n",
    "or raises\n",
    "`StopIteration`.\n",
    "On an iterator,\n",
    "the\n",
    "`__iter__`\n",
    "method returns\n",
    "`self`.\n"
   ]
  },
  {
   "cell_type": "markdown",
   "metadata": {},
   "source": [
    "### `iter`"
   ]
  },
  {
   "cell_type": "markdown",
   "metadata": {},
   "source": [
    "```{=latex}\n",
    "\\begin{frame}[fragile]\n",
    "\\frametitle{Functions}\n",
    "```"
   ]
  },
  {
   "cell_type": "code",
   "execution_count": 31,
   "metadata": {},
   "outputs": [],
   "source": [
    "def iter(thing):\n",
    "    return thing.__iter__()\n",
    "\n",
    "def next(thing):\n",
    "    return thing.__next__()\n",
    "    "
   ]
  },
  {
   "cell_type": "markdown",
   "metadata": {},
   "source": [
    "```{=latex}\n",
    "\\end{frame}\n",
    "```"
   ]
  },
  {
   "cell_type": "code",
   "execution_count": 32,
   "metadata": {},
   "outputs": [],
   "source": [
    "del iter\n",
    "del next"
   ]
  },
  {
   "cell_type": "markdown",
   "metadata": {},
   "source": [
    "The\n",
    "`iter`\n",
    "function is the right way to get at an object's\n",
    "`__iter__`.\n",
    "The real function is slightly more complicated,\n",
    "since it can call native objects'\n",
    "iteration slot."
   ]
  },
  {
   "cell_type": "markdown",
   "metadata": {},
   "source": [
    "### `__iter__`"
   ]
  },
  {
   "cell_type": "markdown",
   "metadata": {},
   "source": [
    "```{=latex}\n",
    "\\begin{frame}[fragile]\n",
    "\\frametitle{Making it iterable}\n",
    "```"
   ]
  },
  {
   "cell_type": "code",
   "execution_count": 33,
   "metadata": {},
   "outputs": [],
   "source": [
    "@dataclass(frozen=True)\n",
    "class TwoInts:\n",
    "    thing_1: int\n",
    "    thing_2: int\n",
    "    \n",
    "    def __iter__(self) -> Iterator[T]:\n",
    "        return iter([self.thing_1, self.thing_2])"
   ]
  },
  {
   "cell_type": "markdown",
   "metadata": {},
   "source": [
    "```{=latex}\n",
    "\\end{frame}\n",
    "```"
   ]
  },
  {
   "cell_type": "markdown",
   "metadata": {},
   "source": [
    "One way to implement the\n",
    "`__iter__`\n",
    "method is to return an iterator\n",
    "of a different object\n",
    "which gets the same things.\n",
    "This is sometimes the correct thing to do,\n",
    "although not always.\n",
    "\n",
    "As a teaching example,\n",
    "this works well!"
   ]
  },
  {
   "cell_type": "markdown",
   "metadata": {},
   "source": [
    "```{=latex}\n",
    "\\begin{frame}[fragile]\n",
    "\\frametitle{Making it iterable}\n",
    "```"
   ]
  },
  {
   "cell_type": "code",
   "execution_count": 34,
   "metadata": {},
   "outputs": [
    {
     "name": "stdout",
     "output_type": "stream",
     "text": [
      "thing_1 1\n",
      "thing_2 10\n"
     ]
    }
   ],
   "source": [
    "dec = TwoInts(1, 10)\n",
    "iter_dec = iter(dec)\n",
    "print(\"thing_1\", next(iter_dec))\n",
    "print(\"thing_2\", next(iter_dec))"
   ]
  },
  {
   "cell_type": "markdown",
   "metadata": {},
   "source": [
    "```{=latex}\n",
    "\\end{frame}\n",
    "```"
   ]
  },
  {
   "cell_type": "markdown",
   "metadata": {},
   "source": [
    "This is one way to use an iterable object.\n",
    "Call\n",
    "`iter()`,\n",
    "and then call\n",
    "`next()`\n",
    "repeatedly on the result."
   ]
  },
  {
   "cell_type": "markdown",
   "metadata": {
    "tags": []
   },
   "source": [
    "### `__next__`"
   ]
  },
  {
   "cell_type": "markdown",
   "metadata": {},
   "source": [
    "```{=latex}\n",
    "\\begin{frame}[fragile]\n",
    "\\frametitle{Moving Forward}\n",
    "```"
   ]
  },
  {
   "cell_type": "code",
   "execution_count": 36,
   "metadata": {},
   "outputs": [],
   "source": [
    "class TwoIntIter:\n",
    "    def __init__(self) -> None:\n",
    "        self.things = [1, 10]\n",
    "    \n",
    "    def __next__(self) -> int:\n",
    "        try:\n",
    "            return self.things.pop(0)\n",
    "        except IndexError:\n",
    "            raise StopIteration() from None"
   ]
  },
  {
   "cell_type": "markdown",
   "metadata": {},
   "source": [
    "```{=latex}\n",
    "\\end{frame}\n",
    "```"
   ]
  },
  {
   "cell_type": "markdown",
   "metadata": {},
   "source": [
    "When writing a fresh iterator,\n",
    "it has to be\n",
    "*stateful*.\n",
    "Each\n",
    "`next()`\n",
    "call,\n",
    "in general,\n",
    "returns a different item.\n",
    "In this example,\n",
    "the state is the list itself."
   ]
  },
  {
   "cell_type": "markdown",
   "metadata": {},
   "source": [
    "```{=latex}\n",
    "\\begin{frame}[fragile]\n",
    "\\frametitle{Moving Forward}\n",
    "```"
   ]
  },
  {
   "cell_type": "code",
   "execution_count": 37,
   "metadata": {},
   "outputs": [
    {
     "name": "stdout",
     "output_type": "stream",
     "text": [
      "1\n",
      "10\n"
     ]
    }
   ],
   "source": [
    "iter_dec = TwoIntIter()\n",
    "print(next(iter_dec))\n",
    "print(next(iter_dec))"
   ]
  },
  {
   "cell_type": "markdown",
   "metadata": {},
   "source": [
    "```{=latex}\n",
    "\\end{frame}\n",
    "```"
   ]
  },
  {
   "cell_type": "markdown",
   "metadata": {},
   "source": [
    "In this case,\n",
    "there is no need\n",
    "(although it is still allowed)\n",
    "to call\n",
    "`iter`.\n",
    "The rest of the code is the same as the last example."
   ]
  },
  {
   "cell_type": "markdown",
   "metadata": {},
   "source": [
    "### `next`"
   ]
  },
  {
   "cell_type": "markdown",
   "metadata": {},
   "source": [
    "```{=latex}\n",
    "\\begin{frame}[fragile]\n",
    "\\frametitle{Moving Forward: Usage}\n",
    "```"
   ]
  },
  {
   "cell_type": "code",
   "execution_count": 28,
   "metadata": {},
   "outputs": [
    {
     "name": "stdout",
     "output_type": "stream",
     "text": [
      "1\n",
      "10\n",
      "Stopped StopIteration()\n"
     ]
    }
   ],
   "source": [
    "iter_dec = iter([1, 10])\n",
    "print(next(iter_dec))\n",
    "print(next(iter_dec))\n",
    "try:\n",
    "    next(iter_dec)\n",
    "except Exception as exc:\n",
    "    print(\"Stopped\", repr(exc))"
   ]
  },
  {
   "cell_type": "markdown",
   "metadata": {},
   "source": [
    "```{=latex}\n",
    "\\end{frame}\n",
    "```"
   ]
  },
  {
   "cell_type": "markdown",
   "metadata": {},
   "source": [
    "In more realistic examples of iteration,\n",
    "we do not know in advance the number of items.\n",
    "The\n",
    "`StopIteration` exception has to be caught."
   ]
  },
  {
   "cell_type": "markdown",
   "metadata": {},
   "source": [
    "### `for`"
   ]
  },
  {
   "cell_type": "markdown",
   "metadata": {},
   "source": [
    "```{=latex}\n",
    "\\begin{frame}[fragile]\n",
    "\\frametitle{for: Using iterators}\n",
    "```"
   ]
  },
  {
   "cell_type": "code",
   "execution_count": 35,
   "metadata": {},
   "outputs": [],
   "source": [
    "class TwoIntIter:\n",
    "    def __init__(self) -> None:\n",
    "        self.things = [1, 10]\n",
    "    \n",
    "    def __iter__(self) -> Iterator[int]:\n",
    "        return self\n",
    "\n",
    "    def __next__(self) -> int:\n",
    "        try:\n",
    "            ret_value = self.things.pop(0)\n",
    "        except IndexError:\n",
    "            print(\"__next__: End of iteration\")\n",
    "            raise StopIteration() from None\n",
    "        print(\"__next__: Returning\", ret_value)\n",
    "        return ret_value"
   ]
  },
  {
   "cell_type": "markdown",
   "metadata": {},
   "source": [
    "```{=latex}\n",
    "\\end{frame}\n",
    "```"
   ]
  },
  {
   "cell_type": "markdown",
   "metadata": {},
   "source": [
    "In order to show how\n",
    "`for`\n",
    "uses iterator,\n",
    "this iterator example focuses\n",
    "on a lot of side effects --\n",
    "printing.\n",
    "This is generally not a good idea.\n",
    "In this specific case,\n",
    "it helps illustrate when the function gets called."
   ]
  },
  {
   "cell_type": "markdown",
   "metadata": {},
   "source": [
    "```{=latex}\n",
    "\\begin{frame}[fragile]\n",
    "\\frametitle{for: Using iterators}\n",
    "```"
   ]
  },
  {
   "cell_type": "code",
   "execution_count": 42,
   "metadata": {},
   "outputs": [
    {
     "name": "stdout",
     "output_type": "stream",
     "text": [
      "for: Before\n",
      "__next__: Returning 1\n",
      "for: Got 1\n",
      "__next__: Returning 10\n",
      "for: Got 10\n",
      "__next__: End of iteration\n",
      "for: After\n"
     ]
    }
   ],
   "source": [
    "iter_dec = TwoIntIter()\n",
    "print(\"for: Before\")\n",
    "for val in iter_dec:\n",
    "    print(\"for: Got\", val)\n",
    "print(\"for: After\")"
   ]
  },
  {
   "cell_type": "markdown",
   "metadata": {},
   "source": [
    "```{=latex}\n",
    "\\end{frame}\n",
    "```"
   ]
  },
  {
   "cell_type": "markdown",
   "metadata": {},
   "source": [
    "Note thatin this example,\n",
    "the iterator is called before each iteration.\n",
    "When the exception is raised,\n",
    "the for loop ends."
   ]
  },
  {
   "cell_type": "markdown",
   "metadata": {},
   "source": [
    "### Sequence constructors"
   ]
  },
  {
   "cell_type": "markdown",
   "metadata": {},
   "source": [
    "```{=latex}\n",
    "\\begin{frame}[fragile]\n",
    "\\frametitle{Sequence constructors: Using iterators}\n",
    "```"
   ]
  },
  {
   "cell_type": "code",
   "execution_count": 38,
   "metadata": {},
   "outputs": [
    {
     "name": "stdout",
     "output_type": "stream",
     "text": [
      "__next__: Returning 1\n",
      "__next__: Returning 10\n",
      "__next__: End of iteration\n",
      "Result is [1, 10]\n"
     ]
    }
   ],
   "source": [
    "res = list(TwoIntIter())\n",
    "print(\"Result is\", res)"
   ]
  },
  {
   "cell_type": "markdown",
   "metadata": {},
   "source": [
    "```{=latex}\n",
    "\\end{frame}\n",
    "```"
   ]
  },
  {
   "cell_type": "markdown",
   "metadata": {},
   "source": [
    "Another common way to consume operators is\n",
    "via the constructor for sequences.\n",
    "These constructors will consume the items\n",
    "in this iterator and construct a sequence from them.\n",
    "\n",
    "This is a useful way to\n",
    "\"buck-stop\"\n",
    "the iterator.\n",
    "After constructing the sequence,\n",
    "the iterator logic is no longer involved."
   ]
  },
  {
   "cell_type": "markdown",
   "metadata": {},
   "source": [
    "## Generators\n",
    "\n",
    "### Generator vs. Iterator"
   ]
  },
  {
   "cell_type": "markdown",
   "metadata": {},
   "source": [
    "```{=latex}\n",
    "\\begin{frame}[fragile]\n",
    "\\frametitle{Generator vs. Iterator}\n",
    "\n",
    "Iterator: Protocol \\pause\n",
    "\n",
    "Annoying to implement (state) \\pause\n",
    "\n",
    "Generator: Mechanism to build iterators\n",
    "\n",
    "\\end{frame}\n",
    "```"
   ]
  },
  {
   "cell_type": "markdown",
   "metadata": {},
   "source": [
    "The iterator protocol is useful.\n",
    "It is also non-trivial to implement well.\n",
    "Because it has to keep track of state,\n",
    "it can be easy to get messy with it.\n",
    "\n",
    "One way to avoid this need for manually managing the\n",
    "state of the iteration\n",
    "is to use generators.\n",
    "In generators,\n",
    "program state is the iterator state."
   ]
  },
  {
   "cell_type": "markdown",
   "metadata": {},
   "source": [
    "### `yield`"
   ]
  },
  {
   "cell_type": "markdown",
   "metadata": {},
   "source": [
    "```{=latex}\n",
    "\\begin{frame}[fragile]\n",
    "\\frametitle{Generators and yield}\n",
    "```"
   ]
  },
  {
   "cell_type": "code",
   "execution_count": 39,
   "metadata": {},
   "outputs": [],
   "source": [
    "def two_int_iter():\n",
    "    print(\"Begin\")\n",
    "    yield 1\n",
    "    print(\"Middle\")\n",
    "    yield 10\n",
    "    print(\"End\")"
   ]
  },
  {
   "cell_type": "markdown",
   "metadata": {},
   "source": [
    "```{=latex}\n",
    "\\end{frame}\n",
    "```"
   ]
  },
  {
   "cell_type": "markdown",
   "metadata": {},
   "source": [
    "This generators,\n",
    "except for the print statements,\n",
    "is similar to the last one.\n",
    "Note that in this case,\n",
    "there is no explicit storage of a\n",
    "2-element list."
   ]
  },
  {
   "cell_type": "markdown",
   "metadata": {},
   "source": [
    "```{=latex}\n",
    "\\begin{frame}[fragile]\n",
    "\\frametitle{Generators and yield}\n",
    "```"
   ]
  },
  {
   "cell_type": "code",
   "execution_count": 43,
   "metadata": {},
   "outputs": [
    {
     "name": "stdout",
     "output_type": "stream",
     "text": [
      "for: Before\n",
      "Begin\n",
      "for: Got 1\n",
      "Middle\n",
      "for: Got 10\n",
      "End\n",
      "for: After\n"
     ]
    }
   ],
   "source": [
    "iter_dec = two_int_iter()\n",
    "print(\"for: Before\")\n",
    "for val in iter_dec:\n",
    "    print(\"for: Got\", val)\n",
    "print(\"for: After\")"
   ]
  },
  {
   "cell_type": "markdown",
   "metadata": {},
   "source": [
    "```{=latex}\n",
    "\\end{frame}\n",
    "```"
   ]
  },
  {
   "cell_type": "markdown",
   "metadata": {},
   "source": [
    "When consuming it with\n",
    "`for`,\n",
    "it is possible to see exactly when the generator resumes execution."
   ]
  },
  {
   "cell_type": "markdown",
   "metadata": {},
   "source": [
    "### `yield from`"
   ]
  },
  {
   "cell_type": "markdown",
   "metadata": {},
   "source": [
    "```{=latex}\n",
    "\\begin{frame}[fragile]\n",
    "\\frametitle{yield from}\n",
    "```"
   ]
  },
  {
   "cell_type": "code",
   "execution_count": 44,
   "metadata": {},
   "outputs": [
    {
     "name": "stdout",
     "output_type": "stream",
     "text": [
      "Begin\n",
      "Middle\n",
      "End\n"
     ]
    },
    {
     "data": {
      "text/plain": [
       "[1, 10, 100]"
      ]
     },
     "execution_count": 44,
     "metadata": {},
     "output_type": "execute_result"
    }
   ],
   "source": [
    "def three_int_iter():\n",
    "    yield from two_int_iter()\n",
    "    yield 100\n",
    "\n",
    "list(three_int_iter())"
   ]
  },
  {
   "cell_type": "markdown",
   "metadata": {},
   "source": [
    "```{=latex}\n",
    "\\end{frame}\n",
    "```"
   ]
  },
  {
   "cell_type": "markdown",
   "metadata": {},
   "source": [
    "In a generator,\n",
    "`yield from`\n",
    "is a way to reuse any\n",
    "iterator.\n",
    "The iterator being reused can be\n",
    "another generator\n",
    "or not."
   ]
  },
  {
   "cell_type": "markdown",
   "metadata": {},
   "source": [
    "### `deque(maxlen=0)`"
   ]
  },
  {
   "cell_type": "markdown",
   "metadata": {},
   "source": [
    "```{=latex}\n",
    "\\begin{frame}[fragile]\n",
    "\\frametitle{Mindless consumption}\n",
    "```"
   ]
  },
  {
   "cell_type": "code",
   "execution_count": 45,
   "metadata": {},
   "outputs": [
    {
     "name": "stdout",
     "output_type": "stream",
     "text": [
      "Begin\n",
      "Middle\n",
      "End\n"
     ]
    },
    {
     "data": {
      "text/plain": [
       "deque([], maxlen=0)"
      ]
     },
     "execution_count": 45,
     "metadata": {},
     "output_type": "execute_result"
    }
   ],
   "source": [
    "from collections import deque\n",
    "\n",
    "deque(two_int_iter(), maxlen=0)"
   ]
  },
  {
   "cell_type": "markdown",
   "metadata": {},
   "source": [
    "```{=latex}\n",
    "\\end{frame}\n",
    "```"
   ]
  },
  {
   "cell_type": "markdown",
   "metadata": {},
   "source": [
    "Because generators have side-effects,\n",
    "sometimes we need only the side effects.\n",
    "A sequence constructor for doing this is\n",
    "`deque(maxlen=0)`.\n",
    "It consumes a generator without storing any elements."
   ]
  },
  {
   "cell_type": "markdown",
   "metadata": {},
   "source": [
    "## Combining iterators"
   ]
  },
  {
   "cell_type": "markdown",
   "metadata": {},
   "source": [
    "```{=latex}\n",
    "\\begin{frame}[fragile]\n",
    "\\frametitle{Iterable to Iterator}\n",
    "\n",
    "\\pause\n",
    "\n",
    "Input: any iterable\n",
    "\n",
    "\\pause\n",
    "\n",
    "Output: on-demand iterator\n",
    "\n",
    "\\end{frame}\n",
    "```"
   ]
  },
  {
   "cell_type": "markdown",
   "metadata": {},
   "source": [
    "One of the most useful thing about iterators is the concept of\n",
    "\"iterator algebra\".\n",
    "There are many functions that take in an iterable,\n",
    "or several iterables,\n",
    "and return iterators.\n",
    "Since iterators are also iterables,\n",
    "the result of one function can be fed to others.\n",
    "\n",
    "Much like in\n",
    "\"numeric algebra\",\n",
    "where a few operations that work on elements and return elements of\n",
    "the same type,\n",
    "this idea allows breaking up code into multiple,\n",
    "more easily digestible,\n",
    "parts.\n",
    "Moreover,\n",
    "again like in\n",
    "\"numeric algebra\",\n",
    "Python comes with useful operations out of the box."
   ]
  },
  {
   "cell_type": "markdown",
   "metadata": {},
   "source": [
    "### `enumerate`"
   ]
  },
  {
   "cell_type": "markdown",
   "metadata": {},
   "source": [
    "```{=latex}\n",
    "\\begin{frame}[fragile]\n",
    "\\frametitle{enumerate}\n",
    "```"
   ]
  },
  {
   "cell_type": "code",
   "execution_count": 49,
   "metadata": {},
   "outputs": [
    {
     "data": {
      "text/plain": [
       "[(0, 1), (1, 10), (2, 100)]"
      ]
     },
     "execution_count": 49,
     "metadata": {},
     "output_type": "execute_result"
    }
   ],
   "source": [
    "list(enumerate(iter([1, 10, 100])))"
   ]
  },
  {
   "cell_type": "markdown",
   "metadata": {},
   "source": [
    "```{=latex}\n",
    "\\end{frame}\n",
    "```"
   ]
  },
  {
   "cell_type": "markdown",
   "metadata": {},
   "source": [
    "The function\n",
    "`enumerate`\n",
    "takes an iterable and returns an iterator\n",
    "that yields a count as well as the original value.\n",
    "This is often useful for indexing or other purposes."
   ]
  },
  {
   "cell_type": "markdown",
   "metadata": {},
   "source": [
    "### `map`"
   ]
  },
  {
   "cell_type": "markdown",
   "metadata": {},
   "source": [
    "```{=latex}\n",
    "\\begin{frame}[fragile]\n",
    "\\frametitle{map}\n",
    "```"
   ]
  },
  {
   "cell_type": "code",
   "execution_count": 50,
   "metadata": {},
   "outputs": [
    {
     "data": {
      "text/plain": [
       "[11, 21]"
      ]
     },
     "execution_count": 50,
     "metadata": {},
     "output_type": "execute_result"
    }
   ],
   "source": [
    "from operator import add\n",
    "from functools import partial\n",
    "\n",
    "list(map(\n",
    "    partial(add, 1),\n",
    "    iter([10, 20]),\n",
    "))"
   ]
  },
  {
   "cell_type": "markdown",
   "metadata": {},
   "source": [
    "```{=latex}\n",
    "\\end{frame}\n",
    "```"
   ]
  },
  {
   "cell_type": "markdown",
   "metadata": {},
   "source": [
    "The map function takes some iterables\n",
    "and applies a function to the items one-by-one.\n",
    "This is useful to post-process results from iterators."
   ]
  },
  {
   "cell_type": "markdown",
   "metadata": {},
   "source": [
    "### `filter`"
   ]
  },
  {
   "cell_type": "markdown",
   "metadata": {},
   "source": [
    "```{=latex}\n",
    "\\begin{frame}[fragile]\n",
    "\\frametitle{filter}\n",
    "```"
   ]
  },
  {
   "cell_type": "code",
   "execution_count": 53,
   "metadata": {},
   "outputs": [
    {
     "data": {
      "text/plain": [
       "[1, 3]"
      ]
     },
     "execution_count": 53,
     "metadata": {},
     "output_type": "execute_result"
    }
   ],
   "source": [
    "from operator import ge\n",
    "from functools import partial\n",
    "\n",
    "list(filter(\n",
    "    partial(ge, 5),\n",
    "    iter([1, 10, 3]),\n",
    "))"
   ]
  },
  {
   "cell_type": "markdown",
   "metadata": {},
   "source": [
    "```{=latex}\n",
    "\\end{frame}\n",
    "```"
   ]
  },
  {
   "cell_type": "markdown",
   "metadata": {},
   "source": [
    "The\n",
    "`filter`\n",
    "function\n",
    "takes an iterable and returns an iterator\n",
    "with only the elements that satisfy a condition.\n",
    "It does\n",
    "*not*\n",
    "modify the elements.\n",
    "It is sometimes used in combination with\n",
    "`map`."
   ]
  },
  {
   "cell_type": "markdown",
   "metadata": {},
   "source": [
    "### `zip`"
   ]
  },
  {
   "cell_type": "markdown",
   "metadata": {},
   "source": [
    "```{=latex}\n",
    "\\begin{frame}[fragile]\n",
    "\\frametitle{zip}\n",
    "```"
   ]
  },
  {
   "cell_type": "code",
   "execution_count": 54,
   "metadata": {},
   "outputs": [
    {
     "data": {
      "text/plain": [
       "[(10, 2), (100, 4)]"
      ]
     },
     "execution_count": 54,
     "metadata": {},
     "output_type": "execute_result"
    }
   ],
   "source": [
    "list(zip(\n",
    "    iter([10, 100]),\n",
    "    iter([2, 4]),\n",
    "))"
   ]
  },
  {
   "cell_type": "markdown",
   "metadata": {},
   "source": [
    "```{=latex}\n",
    "\\end{frame}\n",
    "```"
   ]
  },
  {
   "cell_type": "markdown",
   "metadata": {},
   "source": [
    "The\n",
    "`zip`\n",
    "function takes iterables\n",
    "and returns an iterator\n",
    "which yields tuples --\n",
    "one from each iterable.\n"
   ]
  },
  {
   "cell_type": "markdown",
   "metadata": {},
   "source": [
    "### Comprehensions"
   ]
  },
  {
   "cell_type": "markdown",
   "metadata": {},
   "source": [
    "```{=latex}\n",
    "\\begin{frame}[fragile]\n",
    "\\frametitle{zip}\n",
    "```"
   ]
  },
  {
   "cell_type": "code",
   "execution_count": 56,
   "metadata": {},
   "outputs": [
    {
     "data": {
      "text/plain": [
       "[3, 21]"
      ]
     },
     "execution_count": 56,
     "metadata": {},
     "output_type": "execute_result"
    }
   ],
   "source": [
    "double_plus_one = (\n",
    "    2 * a + 1\n",
    "    for a in\n",
    "    iter([1, 10])\n",
    ")\n",
    "\n",
    "list(double_plus_one)"
   ]
  },
  {
   "cell_type": "markdown",
   "metadata": {},
   "source": [
    "```{=latex}\n",
    "\\end{frame}\n",
    "```"
   ]
  },
  {
   "cell_type": "markdown",
   "metadata": {},
   "source": [
    "For artbitrary code,\n",
    "generator comprehensions can be used.\n",
    "They allow filtering\n",
    "(with if),\n",
    "looping over multiple things,\n",
    "and more.\n",
    "They are often useful together with\n",
    "`zip`."
   ]
  },
  {
   "cell_type": "markdown",
   "metadata": {
    "tags": []
   },
   "source": [
    "## `itertools`"
   ]
  },
  {
   "cell_type": "code",
   "execution_count": 57,
   "metadata": {},
   "outputs": [],
   "source": [
    "import itertools"
   ]
  },
  {
   "cell_type": "markdown",
   "metadata": {},
   "source": [
    "```{=latex}\n",
    "\\begin{frame}[fragile]\n",
    "\\frametitle{itertools}\n",
    "\n",
    "\\pause\n",
    "\n",
    "standard\n",
    "\n",
    "\\pause\n",
    "\n",
    "Advanced iterator algebra\n",
    "\n",
    "\\end{frame}\n",
    "```"
   ]
  },
  {
   "cell_type": "markdown",
   "metadata": {},
   "source": [
    "Beyond the built-in functions and syntax,\n",
    "the\n",
    "`iteratools`\n",
    "module provides some more useful iteration algebra primitives.\n",
    "There are more than can be easily covered,\n",
    "but here is a small taste."
   ]
  },
  {
   "cell_type": "markdown",
   "metadata": {
    "tags": []
   },
   "source": [
    "### `chain`"
   ]
  },
  {
   "cell_type": "markdown",
   "metadata": {},
   "source": [
    "```{=latex}\n",
    "\\begin{frame}[fragile]\n",
    "\\frametitle{chain}\n",
    "```"
   ]
  },
  {
   "cell_type": "code",
   "execution_count": 58,
   "metadata": {},
   "outputs": [
    {
     "data": {
      "text/plain": [
       "[1, 2, 3, 4, 5]"
      ]
     },
     "execution_count": 58,
     "metadata": {},
     "output_type": "execute_result"
    }
   ],
   "source": [
    "list(\n",
    "    itertools.chain(\n",
    "        iter([1, 2, 3]),\n",
    "        iter([4, 5]),\n",
    "    )\n",
    ")"
   ]
  },
  {
   "cell_type": "markdown",
   "metadata": {},
   "source": [
    "```{=latex}\n",
    "\\end{frame}\n",
    "```"
   ]
  },
  {
   "cell_type": "markdown",
   "metadata": {},
   "source": [
    "The\n",
    "`itertools.chain`\n",
    "function is similar to sequence addition.\n",
    "It returns an iterator which yields elements\n",
    "from the first iterable,\n",
    "and then the second.\n",
    "It can take any number of iterables."
   ]
  },
  {
   "cell_type": "markdown",
   "metadata": {},
   "source": [
    "### `islice`"
   ]
  },
  {
   "cell_type": "markdown",
   "metadata": {},
   "source": [
    "```{=latex}\n",
    "\\begin{frame}[fragile]\n",
    "\\frametitle{islice}\n",
    "```"
   ]
  },
  {
   "cell_type": "code",
   "execution_count": 60,
   "metadata": {},
   "outputs": [
    {
     "name": "stdout",
     "output_type": "stream",
     "text": [
      "Begin\n"
     ]
    },
    {
     "data": {
      "text/plain": [
       "[1]"
      ]
     },
     "execution_count": 60,
     "metadata": {},
     "output_type": "execute_result"
    }
   ],
   "source": [
    "list(itertools.islice(two_int_iter(), 0, 1))"
   ]
  },
  {
   "cell_type": "markdown",
   "metadata": {},
   "source": [
    "```{=latex}\n",
    "\\end{frame}\n",
    "```"
   ]
  },
  {
   "cell_type": "markdown",
   "metadata": {},
   "source": [
    "The\n",
    "`islice`\n",
    "function is similar to sequence slicing.\n",
    "It supports first element, last element,\n",
    "and step.\n",
    "Note that because it uses iterators,\n",
    "it will\n",
    "*not*\n",
    "consume all elements.\n",
    "This makes it particularly useful to cap the length\n",
    "of long\n",
    "(or infinite)\n",
    "iterators."
   ]
  },
  {
   "cell_type": "markdown",
   "metadata": {},
   "source": [
    "### `count`"
   ]
  },
  {
   "cell_type": "markdown",
   "metadata": {},
   "source": [
    "```{=latex}\n",
    "\\begin{frame}[fragile]\n",
    "\\frametitle{count}\n",
    "```"
   ]
  },
  {
   "cell_type": "code",
   "execution_count": 62,
   "metadata": {},
   "outputs": [
    {
     "data": {
      "text/plain": [
       "[0, 1, 2, 3, 4]"
      ]
     },
     "execution_count": 62,
     "metadata": {},
     "output_type": "execute_result"
    }
   ],
   "source": [
    "list(itertools.islice(itertools.count(), 0, 5))"
   ]
  },
  {
   "cell_type": "markdown",
   "metadata": {},
   "source": [
    "```{=latex}\n",
    "\\end{frame}\n",
    "```"
   ]
  },
  {
   "cell_type": "markdown",
   "metadata": {},
   "source": [
    "The\n",
    "`count`\n",
    "function returns a count.\n",
    "This is an infinite count,\n",
    "but can be cut down with\n",
    "`islice`."
   ]
  },
  {
   "cell_type": "markdown",
   "metadata": {},
   "source": [
    "## `more_itertools`"
   ]
  },
  {
   "cell_type": "code",
   "execution_count": 2,
   "metadata": {},
   "outputs": [],
   "source": [
    "import more_itertools"
   ]
  },
  {
   "cell_type": "markdown",
   "metadata": {},
   "source": [
    "```{=latex}\n",
    "\\begin{frame}[fragile]\n",
    "\\frametitle{more-itertools}\n",
    "\n",
    "\\pause\n",
    "\n",
    "When itertools is not enough\n",
    "\n",
    "\\end{frame}\n",
    "```"
   ]
  },
  {
   "cell_type": "markdown",
   "metadata": {},
   "source": [
    "There are also useful third-party libraries with even more useful\n",
    "iterator algebra primitives.\n",
    "One of them has the unassuming name\n",
    "`more_itertools`.\n",
    "It contains quite a few useful functions.\n",
    "Once again,\n",
    "this is a small taste."
   ]
  },
  {
   "cell_type": "markdown",
   "metadata": {},
   "source": [
    "### `chunked`"
   ]
  },
  {
   "cell_type": "markdown",
   "metadata": {},
   "source": [
    "```{=latex}\n",
    "\\begin{frame}[fragile]\n",
    "\\frametitle{chunked}\n",
    "```"
   ]
  },
  {
   "cell_type": "code",
   "execution_count": 5,
   "metadata": {},
   "outputs": [
    {
     "data": {
      "text/plain": [
       "[[0, 1], [2, 3]]"
      ]
     },
     "execution_count": 5,
     "metadata": {},
     "output_type": "execute_result"
    }
   ],
   "source": [
    "list(more_itertools.chunked(iter([0, 1, 2, 3]), 2))"
   ]
  },
  {
   "cell_type": "markdown",
   "metadata": {},
   "source": [
    "```{=latex}\n",
    "\\end{frame}\n",
    "```"
   ]
  },
  {
   "cell_type": "markdown",
   "metadata": {},
   "source": [
    "The\n",
    "`chuncked`\n",
    "function is useful for batching elements from an iterator.\n",
    "For example,\n",
    "this is useful for a remote API that takes several items in a batch.\n",
    "Without much code modification,\n",
    "you can tune the size of the batch."
   ]
  },
  {
   "cell_type": "markdown",
   "metadata": {},
   "source": [
    "### `distribute`"
   ]
  },
  {
   "cell_type": "markdown",
   "metadata": {},
   "source": [
    "```{=latex}\n",
    "\\begin{frame}[fragile]\n",
    "\\frametitle{distribute}\n",
    "```"
   ]
  },
  {
   "cell_type": "code",
   "execution_count": 7,
   "metadata": {},
   "outputs": [
    {
     "name": "stdout",
     "output_type": "stream",
     "text": [
      "[0, 2]\n",
      "[1, 3]\n"
     ]
    }
   ],
   "source": [
    "evens, odds = more_itertools.distribute(\n",
    "    2,\n",
    "    iter([0, 1, 2, 3]),\n",
    ")\n",
    "print(list(evens))\n",
    "print(list(odds))"
   ]
  },
  {
   "cell_type": "markdown",
   "metadata": {},
   "source": [
    "```{=latex}\n",
    "\\end{frame}\n",
    "```"
   ]
  },
  {
   "cell_type": "markdown",
   "metadata": {},
   "source": [
    "The\n",
    "`distribute`\n",
    "function distributes elements between several iterators.\n",
    "This can be used for parallel processing,\n",
    "for example."
   ]
  },
  {
   "cell_type": "markdown",
   "metadata": {},
   "source": [
    "### `peekable`"
   ]
  },
  {
   "cell_type": "markdown",
   "metadata": {},
   "source": [
    "```{=latex}\n",
    "\\begin{frame}[fragile]\n",
    "\\frametitle{peekable}\n",
    "```"
   ]
  },
  {
   "cell_type": "code",
   "execution_count": 11,
   "metadata": {},
   "outputs": [],
   "source": [
    "some_nums = more_itertools.peekable(\n",
    "    iter([0, 1, 2, 3, 4])\n",
    ")"
   ]
  },
  {
   "cell_type": "code",
   "execution_count": 12,
   "metadata": {},
   "outputs": [
    {
     "name": "stdout",
     "output_type": "stream",
     "text": [
      "0\n",
      "1\n"
     ]
    }
   ],
   "source": [
    "for x in some_nums:\n",
    "    if some_nums.peek() == 3:\n",
    "        break\n",
    "    print(x)"
   ]
  },
  {
   "cell_type": "markdown",
   "metadata": {},
   "source": [
    "```{=latex}\n",
    "\\end{frame}\n",
    "```"
   ]
  },
  {
   "cell_type": "markdown",
   "metadata": {},
   "source": [
    "Sometimes it's useful to be able to know\n",
    "\"what comes next\".\n",
    "This can be useful when processing a stream,\n",
    "to only process as much as needed,\n",
    "and leave the stream in a good state for the next consumer."
   ]
  },
  {
   "cell_type": "markdown",
   "metadata": {},
   "source": [
    "### `windowed`"
   ]
  },
  {
   "cell_type": "markdown",
   "metadata": {},
   "source": [
    "```{=latex}\n",
    "\\begin{frame}[fragile]\n",
    "\\frametitle{windowed}\n",
    "```"
   ]
  },
  {
   "cell_type": "code",
   "execution_count": 19,
   "metadata": {},
   "outputs": [],
   "source": [
    "samples = more_itertools.windowed(\n",
    "    iter([0, 3, 7, 10, 12]),\n",
    "    2\n",
    ")"
   ]
  },
  {
   "cell_type": "code",
   "execution_count": 20,
   "metadata": {},
   "outputs": [
    {
     "name": "stdout",
     "output_type": "stream",
     "text": [
      "3\n",
      "4\n",
      "3\n",
      "2\n"
     ]
    }
   ],
   "source": [
    "for start, end in samples:\n",
    "    print(end - start)"
   ]
  },
  {
   "cell_type": "markdown",
   "metadata": {},
   "source": [
    "```{=latex}\n",
    "\\end{frame}\n",
    "```"
   ]
  },
  {
   "cell_type": "markdown",
   "metadata": {},
   "source": [
    "The\n",
    "`windowed`\n",
    "function gives a moving window over the iterator.\n",
    "As in the example shown,\n",
    "it can be used to get the difference between\n",
    "successive samples."
   ]
  },
  {
   "cell_type": "markdown",
   "metadata": {},
   "source": [
    "## Summary\n",
    "\n",
    "### Iterators and Generators"
   ]
  },
  {
   "cell_type": "markdown",
   "metadata": {},
   "source": [
    "```{=latex}\n",
    "\\begin{frame}[fragile]\n",
    "\\frametitle{Iterators and Generators}\n",
    "\n",
    "\\pause\n",
    "\n",
    "Iterators: Useful interface\n",
    "\n",
    "\\pause\n",
    "\n",
    "Generators: Useful way to implement interface\n",
    "\n",
    "\\end{frame}\n",
    "```"
   ]
  },
  {
   "cell_type": "markdown",
   "metadata": {},
   "source": [
    "Iterators provide a useful common interface for\n",
    "just-in-time execution.\n",
    "Generators are a useful way to write iterators."
   ]
  },
  {
   "cell_type": "markdown",
   "metadata": {},
   "source": [
    "### Algebra for Just-in-time"
   ]
  },
  {
   "cell_type": "markdown",
   "metadata": {},
   "source": [
    "```{=latex}\n",
    "\\begin{frame}[fragile]\n",
    "\\frametitle{Algebra of Just-in-time}\n",
    "\n",
    "\\pause\n",
    "\n",
    "Functions that accept and return iterators\n",
    "\n",
    "\\pause\n",
    "\n",
    "Composable just-in-time tools\n",
    "\n",
    "\\end{frame}\n",
    "```"
   ]
  },
  {
   "cell_type": "markdown",
   "metadata": {},
   "source": [
    "Part of the usefulness of the iterator concept\n",
    "is that it lends itself to an algebra.\n",
    "This allows expressing abstract computation that\n",
    "needs to happen step by step\n",
    "while still supporting composability."
   ]
  },
  {
   "cell_type": "markdown",
   "metadata": {},
   "source": [
    "### Ecosystem"
   ]
  },
  {
   "cell_type": "markdown",
   "metadata": {},
   "source": [
    "```{=latex}\n",
    "\\begin{frame}[fragile]\n",
    "\\frametitle{Ecosystem}\n",
    "\n",
    "\\pause\n",
    "\n",
    "Research\n",
    "\n",
    "\\pause\n",
    "\n",
    "Consume\n",
    "\n",
    "\\pause\n",
    "\n",
    "Contribute\n",
    "\n",
    "\\end{frame}\n",
    "```"
   ]
  },
  {
   "cell_type": "markdown",
   "metadata": {},
   "source": [
    "This useful abstraction,\n",
    "together with Python's popularity,\n",
    "means there is a big ecosystem.\n",
    "Research to learn what things you can get\n",
    "\"for free\".\n",
    "Consume them as you would any other PyPI dependency.\n",
    "If you do find a useful abstraction that's missing,\n",
    "you can explore contributing it to an existing PyPI package\n",
    "or upload your own."
   ]
  },
  {
   "cell_type": "markdown",
   "metadata": {},
   "source": [
    "```{=latex}\n",
    "\\end{document}\n",
    "```"
   ]
  }
 ],
 "metadata": {
  "kernelspec": {
   "display_name": "mzutil",
   "language": "python",
   "name": "mzutil-venv"
  },
  "language_info": {
   "codemirror_mode": {
    "name": "ipython",
    "version": 3
   },
   "file_extension": ".py",
   "mimetype": "text/x-python",
   "name": "python",
   "nbconvert_exporter": "python",
   "pygments_lexer": "ipython3",
   "version": "3.10.7"
  }
 },
 "nbformat": 4,
 "nbformat_minor": 4
}
